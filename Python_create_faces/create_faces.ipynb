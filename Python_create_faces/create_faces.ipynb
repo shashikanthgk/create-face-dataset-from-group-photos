{
 "cells": [
  {
   "cell_type": "code",
   "execution_count": null,
   "metadata": {},
   "outputs": [],
   "source": [
    "from matplotlib import pyplot\n",
    "from matplotlib.patches import Rectangle\n",
    "from matplotlib.patches import Circle\n",
    "from mtcnn.mtcnn import MTCNN\n",
    "import matplotlib.pyplot as plt\n",
    "import matplotlib.image as mpimg\n",
    "import cv2\n",
    "import os\n",
    "import numpy as np\n",
    "import matplotlib.pyplot as plt\n",
    "import tensorflow as tf\n",
    "from data import DIV2K\n",
    "from model.edsr import edsr\n",
    "from train import EdsrTrainer\n",
    "%matplotlib inline\n",
    "tf.enable_eager_execution()\n"
   ]
  },
  {
   "cell_type": "code",
   "execution_count": null,
   "metadata": {},
   "outputs": [],
   "source": [
    "depth = 16\n",
    "\n",
    "scale = 4\n",
    "downgrade = 'bicubic'"
   ]
  },
  {
   "cell_type": "code",
   "execution_count": null,
   "metadata": {},
   "outputs": [],
   "source": [
    "weights_dir = f'weights/edsr-{depth}-x{scale}'\n",
    "weights_file = os.path.join(weights_dir, 'weights.h5')\n",
    "\n",
    "os.makedirs(weights_dir, exist_ok=True)"
   ]
  },
  {
   "cell_type": "code",
   "execution_count": null,
   "metadata": {},
   "outputs": [],
   "source": [
    "model = edsr(scale=scale, num_res_blocks=depth)\n",
    "model.load_weights(weights_file)"
   ]
  },
  {
   "cell_type": "code",
   "execution_count": null,
   "metadata": {},
   "outputs": [],
   "source": [
    "from model import resolve_single\n",
    "from utils import load_image, plot_sample\n",
    "\n",
    "def resolve_and_plot(x):\n",
    "    lr = x\n",
    "    sr = resolve_single(model, lr)\n",
    "    return sr"
   ]
  },
  {
   "cell_type": "code",
   "execution_count": null,
   "metadata": {},
   "outputs": [],
   "source": [
    "#function for resizing the image\n",
    "def image_resize(image, width = None, height = None, inter = cv2.INTER_AREA):\n",
    "    (h, w) = image.shape[:2]\n",
    "    if width is None and height is None:\n",
    "        return image\n",
    "    dim = (width,height)\n",
    "    resized = cv2.resize(image, dim, interpolation = inter)\n",
    "    return resized"
   ]
  },
  {
   "cell_type": "code",
   "execution_count": null,
   "metadata": {},
   "outputs": [],
   "source": [
    "\n",
    "#get the detected croped photos\n",
    "def get_faces(filename, result_list):\n",
    "    # load the image\n",
    "    x = []\n",
    "    data = pyplot.imread(filename)\n",
    "    for i in range(len(result_list)):\n",
    "        # get coordinates\n",
    "        x1, y1, width, height = result_list[i]['box']\n",
    "        x2, y2 = x1 + width, y1 + height\n",
    "        x.append(data[y1-15:y2+15, x1-15:x2+15])\n",
    "    return x\n",
    "\n"
   ]
  },
  {
   "cell_type": "code",
   "execution_count": null,
   "metadata": {},
   "outputs": [],
   "source": [
    "import cv2\n",
    "src = \"/home/user/foider which contain images with multiple path/\"#source folder for input images\n",
    "dest = \"/home/user/destination folder/\"#destination folder for output images\n",
    "count=0\n",
    "fin_width=216\n",
    "fin_height = 216\n",
    "x = []\n",
    "for path, subdirs, files in os.walk(src):\n",
    "        for name in files:\n",
    "            filename = os.path.join(path, name)\n",
    "            if filename.endswith('.jpeg') or filename.endswith('.jpg') or filename.endswith(\".png\"):\n",
    "                #print(filename)\n",
    "                print(\"reading file : \",filename)\n",
    "                pixels = pyplot.imread(filename)\n",
    "                print(\"detecting faces in the image : \"filename)\n",
    "                detector = MTCNN()\n",
    "                faces = detector.detect_faces(pixels)\n",
    "                z = get_faces(filename, faces)\n",
    "                x = np.array(z)\n",
    "                for i in range(len(x)):\n",
    "                    if not (( x[i].shape[0]==0) or (x[i].shape[1]==0)) and x[i].shape[2]==3:\n",
    "                        result = x[i]\n",
    "                        #if resolution is to two low use srgan for increasing resolution\n",
    "                        if  x[i].shape[0]<fin_width+1 or x[i].shape[1]<fin_height+1 :\n",
    "                            m =resolve_and_plot(x[i])\n",
    "                            result = m.numpy()\n",
    "                        resized_blue=image_resize(result,fin_width,fin_height)\n",
    "                        resized_final = cv2.cvtColor(resized_blue, cv2.COLOR_BGR2RGB)\n",
    "                        cv2.imwrite(dest+\"newimage\"+str(count)+\".jpg\", resized_final)\n",
    "                        print(\"new image created from old image : \",filename)\n",
    "                        count= count+1\n"
   ]
  },
  {
   "cell_type": "code",
   "execution_count": null,
   "metadata": {},
   "outputs": [],
   "source": []
  },
  {
   "cell_type": "code",
   "execution_count": null,
   "metadata": {},
   "outputs": [],
   "source": []
  },
  {
   "cell_type": "code",
   "execution_count": null,
   "metadata": {},
   "outputs": [],
   "source": []
  }
 ],
 "metadata": {
  "celltoolbar": "Tags",
  "kernelspec": {
   "display_name": "Python 3",
   "language": "python",
   "name": "python3"
  },
  "language_info": {
   "codemirror_mode": {
    "name": "ipython",
    "version": 3
   },
   "file_extension": ".py",
   "mimetype": "text/x-python",
   "name": "python",
   "nbconvert_exporter": "python",
   "pygments_lexer": "ipython3",
   "version": "3.7.4"
  }
 },
 "nbformat": 4,
 "nbformat_minor": 2
}
